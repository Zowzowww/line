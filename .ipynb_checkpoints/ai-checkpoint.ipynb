{
 "cells": [
  {
   "cell_type": "code",
   "execution_count": 15,
   "id": "338aa3e4-fa6c-4f3e-b30f-e7a9e2711dda",
   "metadata": {},
   "outputs": [
    {
     "name": "stdout",
     "output_type": "stream",
     "text": [
      "Requirement already satisfied: pandas in c:\\users\\renzo\\appdata\\local\\programs\\python\\python311\\lib\\site-packages (2.2.3)\n",
      "Requirement already satisfied: numpy>=1.23.2 in c:\\users\\renzo\\appdata\\local\\programs\\python\\python311\\lib\\site-packages (from pandas) (1.25.2)\n",
      "Requirement already satisfied: python-dateutil>=2.8.2 in c:\\users\\renzo\\appdata\\local\\programs\\python\\python311\\lib\\site-packages (from pandas) (2.8.2)\n",
      "Requirement already satisfied: pytz>=2020.1 in c:\\users\\renzo\\appdata\\local\\programs\\python\\python311\\lib\\site-packages (from pandas) (2024.2)\n",
      "Requirement already satisfied: tzdata>=2022.7 in c:\\users\\renzo\\appdata\\local\\programs\\python\\python311\\lib\\site-packages (from pandas) (2024.2)\n",
      "Requirement already satisfied: six>=1.5 in c:\\users\\renzo\\appdata\\local\\programs\\python\\python311\\lib\\site-packages (from python-dateutil>=2.8.2->pandas) (1.16.0)\n",
      "Note: you may need to restart the kernel to use updated packages.\n"
     ]
    },
    {
     "name": "stderr",
     "output_type": "stream",
     "text": [
      "\n",
      "[notice] A new release of pip is available: 24.1.1 -> 24.3.1\n",
      "[notice] To update, run: C:\\Users\\Renzo\\AppData\\Local\\Programs\\Python\\Python311\\python.exe -m pip install --upgrade pip\n"
     ]
    }
   ],
   "source": [
    "pip install pandas"
   ]
  },
  {
   "cell_type": "code",
   "execution_count": 17,
   "id": "4f2bf25e-5bf4-4c93-bfa7-4ab85180c45f",
   "metadata": {},
   "outputs": [
    {
     "name": "stdout",
     "output_type": "stream",
     "text": [
      "File squat is not an image. Skipping...\n",
      "File crunch testing is not an image. Skipping...\n",
      "Pose data successfully saved to pose_data.csv.\n"
     ]
    }
   ],
   "source": [
    "import cv2\n",
    "import mediapipe as mp\n",
    "import os\n",
    "import pandas as pd\n",
    "\n",
    "# Initialize Mediapipe\n",
    "mp_pose = mp.solutions.pose\n",
    "pose = mp_pose.Pose()\n",
    "mp_drawing = mp.solutions.drawing_utils\n",
    "\n",
    "# Dataset folder\n",
    "dataset_path = \"dataset\"  # Folder with 'squat' and 'crunch' subfolders\n",
    "data = []\n",
    "\n",
    "# Process each label folder\n",
    "for label in ['squat', 'crunch']:\n",
    "    folder_path = os.path.join(dataset_path, label)\n",
    "    \n",
    "    # Ensure the folder exists\n",
    "    if not os.path.exists(folder_path):\n",
    "        print(f\"Folder {folder_path} does not exist. Skipping...\")\n",
    "        continue\n",
    "\n",
    "    # Loop through images in the folder\n",
    "    for image_name in os.listdir(folder_path):\n",
    "        image_path = os.path.join(folder_path, image_name)\n",
    "        \n",
    "        # Ensure the file is an image\n",
    "        if not image_name.lower().endswith(('.png', '.jpg', '.jpeg')):\n",
    "            print(f\"File {image_name} is not an image. Skipping...\")\n",
    "            continue\n",
    "        \n",
    "        # Read and process the image\n",
    "        image = cv2.imread(image_path)\n",
    "        if image is None:\n",
    "            print(f\"Failed to read image: {image_path}. Skipping...\")\n",
    "            continue\n",
    "\n",
    "        # Convert the image to RGB (Mediapipe works with RGB)\n",
    "        image_rgb = cv2.cvtColor(image, cv2.COLOR_BGR2RGB)\n",
    "        results = pose.process(image_rgb)\n",
    "\n",
    "        if results.pose_landmarks:\n",
    "            # Extract keypoints\n",
    "            landmarks = results.pose_landmarks.landmark\n",
    "            keypoints = [landmark.x for landmark in landmarks] + [landmark.y for landmark in landmarks]\n",
    "            data.append(keypoints + [label])\n",
    "\n",
    "# Save data to CSV\n",
    "columns = [f\"x{i}\" for i in range(33)] + [f\"y{i}\" for i in range(33)] + [\"label\"]\n",
    "df = pd.DataFrame(data, columns=columns)\n",
    "df.to_csv(\"pose_data.csv\", index=False)\n",
    "\n",
    "print(\"Pose data successfully saved to pose_data.csv.\")"
   ]
  },
  {
   "cell_type": "code",
   "execution_count": null,
   "id": "7f79ab33-8dc4-4965-9fa7-3f765bba1d25",
   "metadata": {},
   "outputs": [],
   "source": [
    "import cv2\n",
    "from PoseModule import PoseDetector  # Import your PoseModule\n",
    "\n",
    "# Initialize PoseDetector\n",
    "detector = PoseDetector()\n",
    "\n",
    "# Path to a test image\n",
    "image_path = \"dataset/squat/squat1.jpg\"  # Replace with your image path\n",
    "image = cv2.imread(image_path)\n",
    "\n",
    "# Detect pose and draw landmarks\n",
    "if image is not None:\n",
    "    image = detector.find_pose(image, draw=True)  # `draw=True` enables drawing landmarks\n",
    "\n",
    "    # Show the image with drawn landmarks\n",
    "    cv2.imshow(\"Pose Detection\", image)\n",
    "    cv2.waitKey(0)\n",
    "    cv2.destroyAllWindows()\n",
    "else:\n",
    "    print(\"Failed to load image.\")"
   ]
  },
  {
   "cell_type": "code",
   "execution_count": 20,
   "id": "36b3b9c0-dccf-434a-9451-fc7a1cb2d754",
   "metadata": {},
   "outputs": [],
   "source": [
    "import numpy as np\n",
    "\n",
    "def compute_angle(p1, p2, p3):\n",
    "    \"\"\"Calculate the angle between three points.\"\"\"\n",
    "    p1, p2, p3 = np.array(p1), np.array(p2), np.array(p3)\n",
    "    vector1 = p1 - p2\n",
    "    vector2 = p3 - p2\n",
    "    cosine_angle = np.dot(vector1, vector2) / (np.linalg.norm(vector1) * np.linalg.norm(vector2))\n",
    "    angle = np.arccos(cosine_angle)\n",
    "    return np.degrees(angle)\n",
    "\n",
    "# Add features like knee and torso angles to the dataset\n",
    "df['knee_angle'] = df.apply(lambda row: compute_angle(\n",
    "    [row['x11'], row['y11']],  # Hip\n",
    "    [row['x23'], row['y23']],  # Knee\n",
    "    [row['x25'], row['y25']]   # Ankle\n",
    "), axis=1)\n",
    "\n",
    "df['torso_angle'] = df.apply(lambda row: compute_angle(\n",
    "    [row['x23'], row['y23']],  # Knee\n",
    "    [row['x11'], row['y11']],  # Hip\n",
    "    [row['x13'], row['y13']]   # Shoulder\n",
    "), axis=1)\n",
    "\n",
    "# Drop raw keypoints after feature engineering\n",
    "features = df[['knee_angle', 'torso_angle']]  # Add more features as needed\n",
    "labels = df['label']"
   ]
  },
  {
   "cell_type": "code",
   "execution_count": 24,
   "id": "8ddb2212-b804-4b00-bec2-2ffaf88756de",
   "metadata": {},
   "outputs": [
    {
     "name": "stdout",
     "output_type": "stream",
     "text": [
      "Logistic Regression:\n",
      "Accuracy: 1.0\n",
      "              precision    recall  f1-score   support\n",
      "\n",
      "           0       1.00      1.00      1.00         3\n",
      "           1       1.00      1.00      1.00         5\n",
      "\n",
      "    accuracy                           1.00         8\n",
      "   macro avg       1.00      1.00      1.00         8\n",
      "weighted avg       1.00      1.00      1.00         8\n",
      "\n",
      "Naive Bayes:\n",
      "Accuracy: 1.0\n",
      "              precision    recall  f1-score   support\n",
      "\n",
      "           0       1.00      1.00      1.00         3\n",
      "           1       1.00      1.00      1.00         5\n",
      "\n",
      "    accuracy                           1.00         8\n",
      "   macro avg       1.00      1.00      1.00         8\n",
      "weighted avg       1.00      1.00      1.00         8\n",
      "\n"
     ]
    }
   ],
   "source": [
    "import pandas as pd\n",
    "from sklearn.model_selection import train_test_split\n",
    "from sklearn.linear_model import LogisticRegression\n",
    "from sklearn.naive_bayes import GaussianNB\n",
    "from sklearn.metrics import accuracy_score, classification_report\n",
    "\n",
    "# Load data\n",
    "df = pd.read_csv(\"pose_data.csv\")\n",
    "\n",
    "# Encode labels\n",
    "df['label'] = df['label'].map({'squat': 0, 'crunch': 1})\n",
    "\n",
    "# Separate features and labels\n",
    "X = df.drop(columns=['label'])\n",
    "y = df['label']\n",
    "\n",
    "# Train-test split\n",
    "X_train, X_test, y_train, y_test = train_test_split(X, y, test_size=0.2, random_state=42)\n",
    "\n",
    "# Logistic Regression\n",
    "lr_model = LogisticRegression()\n",
    "lr_model.fit(X_train, y_train)\n",
    "y_pred_lr = lr_model.predict(X_test)\n",
    "\n",
    "# Naive Bayes\n",
    "nb_model = GaussianNB()\n",
    "nb_model.fit(X_train, y_train)\n",
    "y_pred_nb = nb_model.predict(X_test)\n",
    "\n",
    "# Evaluate\n",
    "print(\"Logistic Regression:\")\n",
    "print(f\"Accuracy: {accuracy_score(y_test, y_pred_lr)}\")\n",
    "print(classification_report(y_test, y_pred_lr))\n",
    "\n",
    "print(\"Naive Bayes:\")\n",
    "print(f\"Accuracy: {accuracy_score(y_test, y_pred_nb)}\")\n",
    "print(classification_report(y_test, y_pred_nb))"
   ]
  }
 ],
 "metadata": {
  "kernelspec": {
   "display_name": "Python 3 (ipykernel)",
   "language": "python",
   "name": "python3"
  },
  "language_info": {
   "codemirror_mode": {
    "name": "ipython",
    "version": 3
   },
   "file_extension": ".py",
   "mimetype": "text/x-python",
   "name": "python",
   "nbconvert_exporter": "python",
   "pygments_lexer": "ipython3",
   "version": "3.11.4"
  }
 },
 "nbformat": 4,
 "nbformat_minor": 5
}
